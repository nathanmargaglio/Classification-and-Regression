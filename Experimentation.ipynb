{
 "cells": [
  {
   "cell_type": "code",
   "execution_count": 277,
   "metadata": {},
   "outputs": [],
   "source": [
    "import numpy as np\n",
    "from scipy.optimize import minimize\n",
    "from scipy.io import loadmat\n",
    "from numpy.linalg import det, inv\n",
    "from math import sqrt, pi\n",
    "import scipy.io\n",
    "import matplotlib.pyplot as plt\n",
    "import pickle\n",
    "import sys\n",
    "\n",
    "from scipy.stats import multivariate_normal"
   ]
  },
  {
   "cell_type": "code",
   "execution_count": 350,
   "metadata": {},
   "outputs": [],
   "source": [
    "def ldaLearn(X,y):\n",
    "    # Inputs\n",
    "    # X - a N x d matrix with each row corresponding to a training example\n",
    "    # y - a N x 1 column vector indicating the labels for each training example\n",
    "    #\n",
    "    # Outputs\n",
    "    # means - A d x k matrix containing learnt means for each of the k classes\n",
    "    # covmat - A single d x d learnt covariance matrix\n",
    "    \n",
    "    # N: training examples\n",
    "    # d: features\n",
    "    # k: classes\n",
    "    \n",
    "    N, d = X.shape\n",
    "    unique_classes = np.unique(y) # grab each unique value\n",
    "    k = unique_classes.size\n",
    "    \n",
    "    _means = []\n",
    "    for uc in unique_classes:\n",
    "        is_class = (y == uc).reshape(y.shape[0], ) # condition-matrix where y is the class\n",
    "        from_class = X[is_class]                   # grab from X where y is the class\n",
    "        class_means = np.mean(from_class, axis=0)  # get the means for each column (d columns)\n",
    "        _means.append(class_means)\n",
    "\n",
    "    means = np.array(_means).T # reshape means to be d x k (versus k x d)\n",
    "    \n",
    "    covmat = np.cov(X.T)\n",
    "    \n",
    "    return means,covmat"
   ]
  },
  {
   "cell_type": "code",
   "execution_count": 351,
   "metadata": {},
   "outputs": [],
   "source": [
    "def ldaTest(means,covmat,Xtest,ytest):\n",
    "    # Inputs\n",
    "    # means, covmat - parameters of the LDA model\n",
    "    # Xtest - a N x d matrix with each row corresponding to a test example\n",
    "    # ytest - a N x 1 column vector indicating the labels for each test example\n",
    "    # Outputs\n",
    "    # acc - A scalar accuracy value\n",
    "    # ypred - N x 1 column vector indicating the predicted labels\n",
    "\n",
    "    res = np.zeros(len(ytest))\n",
    "    for i, x in enumerate(Xtest):\n",
    "        y = ytest[i]\n",
    "        values = []\n",
    "        for mean in means.T:\n",
    "            values.append(multivariate_normal.pdf(x, mean, covmat))\n",
    "\n",
    "        res[i] = np.argmax(np.array(values)) + 1 # we add one to match index\n",
    "        \n",
    "    acc = sum(res - ytest.reshape(len(ytest), ) == 0)/len(res)\n",
    "            \n",
    "    return acc, np.array(res).reshape(ytest.shape)"
   ]
  },
  {
   "cell_type": "code",
   "execution_count": 352,
   "metadata": {},
   "outputs": [
    {
     "name": "stdout",
     "output_type": "stream",
     "text": [
      "LDA Accuracy = 0.97\n"
     ]
    }
   ],
   "source": [
    "if sys.version_info.major == 2:\n",
    "    X,y,Xtest,ytest = pickle.load(open('sample.pickle','rb'))\n",
    "else:\n",
    "    X,y,Xtest,ytest = pickle.load(open('sample.pickle','rb'),encoding = 'latin1')\n",
    "    \n",
    "means,covmat = ldaLearn(X,y)\n",
    "ldaacc,ldares = ldaTest(means,covmat,Xtest,ytest)\n",
    "print('LDA Accuracy = '+str(ldaacc))"
   ]
  },
  {
   "cell_type": "code",
   "execution_count": null,
   "metadata": {},
   "outputs": [],
   "source": []
  }
 ],
 "metadata": {
  "kernelspec": {
   "display_name": "Python 3",
   "language": "python",
   "name": "python3"
  },
  "language_info": {
   "codemirror_mode": {
    "name": "ipython",
    "version": 3
   },
   "file_extension": ".py",
   "mimetype": "text/x-python",
   "name": "python",
   "nbconvert_exporter": "python",
   "pygments_lexer": "ipython3",
   "version": "3.6.4"
  }
 },
 "nbformat": 4,
 "nbformat_minor": 2
}
